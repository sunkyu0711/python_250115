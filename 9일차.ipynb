{
 "cells": [
  {
   "cell_type": "code",
   "execution_count": 1,
   "metadata": {},
   "outputs": [
    {
     "name": "stdout",
     "output_type": "stream",
     "text": [
      "김선규\n"
     ]
    }
   ],
   "source": [
    "# visual studio code에서 ipynb는 테스트용\n",
    "print('김선규')"
   ]
  },
  {
   "cell_type": "code",
   "execution_count": 4,
   "metadata": {},
   "outputs": [
    {
     "name": "stdout",
     "output_type": "stream",
     "text": [
      "사각형의 넓이 = 50\n",
      "삼각형의 넓이 = 25.0\n"
     ]
    }
   ],
   "source": [
    "# polyArea.py 테스트\n",
    "def rectArea(width,height):\n",
    "    return width*height\n",
    "\n",
    "def triArea(base,height):\n",
    "    return base*height/2\n",
    "\n",
    "print(f'사각형의 넓이 = {rectArea(5,10)}')\n",
    "print(f'삼각형의 넓이 = {triArea(5,10)}')"
   ]
  },
  {
   "cell_type": "code",
   "execution_count": 1,
   "metadata": {},
   "outputs": [
    {
     "name": "stdout",
     "output_type": "stream",
     "text": [
      "페퍼로니 피자\n",
      "치즈 피자\n",
      "콤비네이션 피자\n",
      "불고기 피자\n",
      "해산물 피자\n"
     ]
    }
   ],
   "source": [
    "# pizzaorder.py 테스트\n",
    "\n",
    "pizza_menu={'페퍼로니 피자':'3000',\n",
    "            '치즈 피자':'3200',\n",
    "            '콤비네이션 피자':'3500',\n",
    "            '불고기 피자':'3600',\n",
    "            '해산물 피자':'3800'}\n",
    "\n",
    "for pizza in pizza_menu:\n",
    "    print(pizza)"
   ]
  },
  {
   "cell_type": "code",
   "execution_count": null,
   "metadata": {},
   "outputs": [],
   "source": []
  }
 ],
 "metadata": {
  "kernelspec": {
   "display_name": "Python 3",
   "language": "python",
   "name": "python3"
  },
  "language_info": {
   "codemirror_mode": {
    "name": "ipython",
    "version": 3
   },
   "file_extension": ".py",
   "mimetype": "text/x-python",
   "name": "python",
   "nbconvert_exporter": "python",
   "pygments_lexer": "ipython3",
   "version": "3.13.1"
  }
 },
 "nbformat": 4,
 "nbformat_minor": 2
}
