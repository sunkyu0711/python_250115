{
  "nbformat": 4,
  "nbformat_minor": 0,
  "metadata": {
    "colab": {
      "provenance": [],
      "authorship_tag": "ABX9TyNC0pd4zNSQyGYXm4p7scKg",
      "include_colab_link": true
    },
    "kernelspec": {
      "name": "python3",
      "display_name": "Python 3"
    },
    "language_info": {
      "name": "python"
    }
  },
  "cells": [
    {
      "cell_type": "markdown",
      "metadata": {
        "id": "view-in-github",
        "colab_type": "text"
      },
      "source": [
        "<a href=\"https://colab.research.google.com/github/sunkyu0711/python_250115/blob/main/8%EC%9D%BC%EC%B0%A8_set_%EC%82%AC%EC%9A%A9%EC%9E%90%EC%A0%95%EC%9D%98%ED%95%A8%EC%88%98.ipynb\" target=\"_parent\"><img src=\"https://colab.research.google.com/assets/colab-badge.svg\" alt=\"Open In Colab\"/></a>"
      ]
    },
    {
      "cell_type": "markdown",
      "source": [
        "## 세트(set)\n",
        "* 집합에 관련된 것을 쉽게 처리하기 위해 만든 자료형.\n",
        "* 중복을 허용하지 않음\n",
        "* 순서가 없기 때문에 인덱싱으로 값을 얻을 수 없음\n",
        "\n",
        "\n",
        "```\n",
        "세트명 = {값1, 값2, 값3, ...}\n",
        "세트명 = set()\n",
        "```\n",
        "\n"
      ],
      "metadata": {
        "id": "fZIjjbXWGC5n"
      }
    },
    {
      "cell_type": "code",
      "execution_count": null,
      "metadata": {
        "colab": {
          "base_uri": "https://localhost:8080/"
        },
        "id": "mbJnQdHWGArY",
        "outputId": "05738092-39c7-4869-a07c-2ca9fbfeae87"
      },
      "outputs": [
        {
          "output_type": "stream",
          "name": "stdout",
          "text": [
            "{20}\n",
            "{20, 40, 10, 30}\n",
            "{10, 30}\n"
          ]
        }
      ],
      "source": [
        "a={10,20,30}\n",
        "b={20,40}\n",
        "\n",
        "print(a&b) # 교집합: a.intersection(b)\n",
        "print(a|b) # 합집합: a.union(b)\n",
        "print(a-b) # 차집합: a.difference(b)"
      ]
    },
    {
      "cell_type": "markdown",
      "source": [
        "* 세트명.add(값) 함수: 값 1개 추가\n",
        "* 세트명.update([값1, 값2, ...]): 값 여러 개 추가\n",
        "* 세트명.remove(값): 특정 값 1개 삭제"
      ],
      "metadata": {
        "id": "2m8MAtKqHMRG"
      }
    },
    {
      "cell_type": "code",
      "source": [
        "a.remove([10,20])\n",
        "print(a)"
      ],
      "metadata": {
        "colab": {
          "base_uri": "https://localhost:8080/",
          "height": 166
        },
        "id": "smP3heehG3aX",
        "outputId": "c0dee029-adf2-431b-aedd-20b03656efcf"
      },
      "execution_count": null,
      "outputs": [
        {
          "output_type": "error",
          "ename": "TypeError",
          "evalue": "unhashable type: 'list'",
          "traceback": [
            "\u001b[0;31m---------------------------------------------------------------------------\u001b[0m",
            "\u001b[0;31mTypeError\u001b[0m                                 Traceback (most recent call last)",
            "\u001b[0;32m<ipython-input-3-6fca9f027bbb>\u001b[0m in \u001b[0;36m<cell line: 1>\u001b[0;34m()\u001b[0m\n\u001b[0;32m----> 1\u001b[0;31m \u001b[0ma\u001b[0m\u001b[0;34m.\u001b[0m\u001b[0mremove\u001b[0m\u001b[0;34m(\u001b[0m\u001b[0;34m[\u001b[0m\u001b[0;36m10\u001b[0m\u001b[0;34m,\u001b[0m\u001b[0;36m20\u001b[0m\u001b[0;34m]\u001b[0m\u001b[0;34m)\u001b[0m\u001b[0;34m\u001b[0m\u001b[0;34m\u001b[0m\u001b[0m\n\u001b[0m\u001b[1;32m      2\u001b[0m \u001b[0mprint\u001b[0m\u001b[0;34m(\u001b[0m\u001b[0ma\u001b[0m\u001b[0;34m)\u001b[0m\u001b[0;34m\u001b[0m\u001b[0;34m\u001b[0m\u001b[0m\n",
            "\u001b[0;31mTypeError\u001b[0m: unhashable type: 'list'"
          ]
        }
      ]
    },
    {
      "cell_type": "markdown",
      "source": [
        "## 함수(function)\n",
        "\n",
        "* 특정 기능을 수행하는 코드들을 묶어 놓은 것\n",
        "* 재사용 가능"
      ],
      "metadata": {
        "id": "oAbg5hL2J6M3"
      }
    },
    {
      "cell_type": "markdown",
      "source": [
        "* 함수를 사용하는 이유\n",
        "  * 코드의 재사용: 매번 중복되는 코드를 함수로 만들어 사용하면 프로그램의 코드 양이 줄어들고 간결해짐.\n",
        "  * 코드 수정 용이\n",
        "    - 코드에 수정 사항이 발생했을 때 함수를 사용하면 함수만 수정하면 됨.\n",
        "    - 만약 함수를 사용하지 않는다면 모든 코드를 수정해야 하는 불편함이 있고, 자칫 일부 코드가 수정되지 않아 프로그램에 심각한 오류가 발생할 수 있음.\n",
        "  * 모듈화\n",
        "    - 모듈: 특정 기능의 작은 프로그램. 파이썬에서 파일로 작용함.\n",
        "    - 특정 기능이 함수로 모듈화되면 다른 프로그램에 쉽게 이식하여 사용할 수 있으며 그만큼 프로그램을 만든느 시간도 단축됨.\n",
        "* 함수의 종류\n",
        "  * 내장 함수: 파이썬에서 기본으로 제공하는 함수.\n",
        "  * 사용자 함수\n",
        "* 함수의 정의와 호출\n",
        "  * 함수를 만들고(정의), 프로그램 내 어떤 위치에서든 필요할 때마다 함수 이름을 사용해 호출\n",
        "  * 함수 정의(function definition)\n",
        "    ```\n",
        "    # 정의\n",
        "    def 함수명():\n",
        "      필요한 명령들\n",
        "\n",
        "    # 호출\n",
        "    함수명()\n",
        "    ```"
      ],
      "metadata": {
        "id": "hBzj1jxvJ5zv"
      }
    },
    {
      "cell_type": "code",
      "source": [
        "def infoper():\n",
        "  print('남양주시')\n",
        "  print('김선규')\n",
        "\n",
        "infoper()"
      ],
      "metadata": {
        "id": "aDX9__psHeG-",
        "colab": {
          "base_uri": "https://localhost:8080/"
        },
        "outputId": "30294ca6-9f04-4955-c90f-6957fc0b7c47"
      },
      "execution_count": null,
      "outputs": [
        {
          "output_type": "stream",
          "name": "stdout",
          "text": [
            "남양주시\n",
            "김선규\n"
          ]
        }
      ]
    },
    {
      "cell_type": "code",
      "source": [
        "def infoper():\n",
        "  print('남양주시')\n",
        "  print('김선규')\n",
        "\n",
        "for i in range(10):\n",
        "  infoper()"
      ],
      "metadata": {
        "colab": {
          "base_uri": "https://localhost:8080/"
        },
        "id": "_llCVoDeKnhl",
        "outputId": "c7a4c469-a095-4558-f338-835810eedcf6"
      },
      "execution_count": null,
      "outputs": [
        {
          "output_type": "stream",
          "name": "stdout",
          "text": [
            "남양주시\n",
            "김선규\n",
            "남양주시\n",
            "김선규\n",
            "남양주시\n",
            "김선규\n",
            "남양주시\n",
            "김선규\n",
            "남양주시\n",
            "김선규\n",
            "남양주시\n",
            "김선규\n",
            "남양주시\n",
            "김선규\n",
            "남양주시\n",
            "김선규\n",
            "남양주시\n",
            "김선규\n",
            "남양주시\n",
            "김선규\n"
          ]
        }
      ]
    },
    {
      "cell_type": "markdown",
      "source": [
        "* 함수의 인수(parameter)\n",
        "  * 함수를 호출할 때 괄호 안에 **'인수'**를 기술하면, 함수를 만들 때 정의된 **'매개변수'**에 값이 전달\n",
        "  - 인수: 함수를 호출할 때 넘겨주는 데이터\n",
        "  - 매개변수: 함수 호출부에서 넘긴 인수를 함수 정의부에서 받아 저장하는 변수\n",
        "  * 호출부와 정의부에 변수 개수 동일하지 않으면 에러"
      ],
      "metadata": {
        "id": "BSmi12yVK4pm"
      }
    },
    {
      "cell_type": "code",
      "source": [
        "# 함수를 호출하는 곳에서 주소와 이름을 입력받아 출력하게 하려면?\n",
        "\n",
        "def InfoPer(addr, name): # 메모리에만 기억됨 // 함수 이름은 맨 앞 글자를 대문자로 적는 걸 권장\n",
        "  print(addr)\n",
        "  print(name) # 지역 변수(local): 정의부에서만, 혹은 호출부에서만 정의됨\n",
        "\n",
        "addr = input('주소 입력 >> ')\n",
        "name = input('이름 입력 >> ')\n",
        "InfoPer(addr, name) # 호출할 때에도 인수를 넣어야. 둘이 서로 다름 // 전역 변수(global): 정의부, 호출부 관계없이 사용"
      ],
      "metadata": {
        "colab": {
          "base_uri": "https://localhost:8080/"
        },
        "id": "coHPfNbuKug1",
        "outputId": "fcca58ef-6cab-4cad-ac18-358b2ebe8eeb"
      },
      "execution_count": null,
      "outputs": [
        {
          "output_type": "stream",
          "name": "stdout",
          "text": [
            "주소 입력 >> 333\n",
            "이름 입력 >> 111\n",
            "333\n",
            "111\n"
          ]
        }
      ]
    },
    {
      "cell_type": "code",
      "source": [
        "# 더하기, 빼기 함수 작성\n",
        "\n",
        "def calc(a,b,c):\n",
        "  r1=a+b+c\n",
        "  r2=r1/3\n",
        "  print(f'더하기는 {r1}')\n",
        "  print(f'빼기는 {r2}') # 계산은 여기서\n",
        "\n",
        "calc(100,200,300)\n",
        "# 만약 이 밑에도 계산을 원한다면?: print 대신 return"
      ],
      "metadata": {
        "colab": {
          "base_uri": "https://localhost:8080/"
        },
        "id": "I85O24TjL5tv",
        "outputId": "0f5a1ad5-4657-422d-846d-3ad92b4e30a5"
      },
      "execution_count": null,
      "outputs": [
        {
          "output_type": "stream",
          "name": "stdout",
          "text": [
            "더하기는 600\n",
            "빼기는 200.0\n"
          ]
        }
      ]
    },
    {
      "cell_type": "markdown",
      "source": [
        "* **중요**"
      ],
      "metadata": {
        "id": "8Q4snJKaOzxm"
      }
    },
    {
      "cell_type": "code",
      "source": [
        "def calc(a,b,c):\n",
        "  r1=a+b+c\n",
        "  r2=r1/3\n",
        "  # print(f'더하기는 {r1}')\n",
        "  # print(f'빼기는 {r2}')\n",
        "  return r1, r2\n",
        "\n",
        "calc(100,200,300)"
      ],
      "metadata": {
        "colab": {
          "base_uri": "https://localhost:8080/"
        },
        "id": "8F0LJgc4OLNr",
        "outputId": "b4de6d42-bdb6-4b85-85d2-61ee58820e84"
      },
      "execution_count": null,
      "outputs": [
        {
          "output_type": "execute_result",
          "data": {
            "text/plain": [
              "(600, 200.0)"
            ]
          },
          "metadata": {},
          "execution_count": 8
        }
      ]
    },
    {
      "cell_type": "code",
      "source": [
        "def calc(a,b,c):\n",
        "  r1=a+b+c\n",
        "  r2=r1/3\n",
        "  # print(f'더하기는 {r1}')\n",
        "  # print(f'빼기는 {r2}')\n",
        "  return r1, r2\n",
        "\n",
        "x,y=calc(100,200,300) # x에 600, y에 200.0이 할당됨\n",
        "print(x,y) # 이거 안 넣으면 아무것도 출력 안 됨"
      ],
      "metadata": {
        "id": "07JuC9MhOmMG"
      },
      "execution_count": null,
      "outputs": []
    },
    {
      "cell_type": "markdown",
      "source": [
        "* **프로그래밍적 사고: 함수화하기 전에 먼저 구현한 뒤에 어느 부분을 함수로 만들지 생각**"
      ],
      "metadata": {
        "id": "At53PDlkQU24"
      }
    },
    {
      "cell_type": "code",
      "source": [
        "# [실습1] 사용자로부터 입력받아 구구단을 출력하는 프로그램을 작성해 보세요.\n",
        "\n",
        "def Multiplication_Table(num):\n",
        "  if num < 2 or num > 9:\n",
        "    print(\"입력 오류!\")\n",
        "  else:\n",
        "    print(f'*** {num}단 ***')\n",
        "    for i in range(1,10):\n",
        "      print(f'{num} * {i} = {num*i}')\n",
        "\n",
        "n=int(input(\"출력을 원하는 단을 입력: \"))\n",
        "Multiplication_Table(n)"
      ],
      "metadata": {
        "colab": {
          "base_uri": "https://localhost:8080/"
        },
        "id": "MQslcduUPCkx",
        "outputId": "1dd520ec-7ca8-443a-fd22-787bb538a65b"
      },
      "execution_count": null,
      "outputs": [
        {
          "output_type": "stream",
          "name": "stdout",
          "text": [
            "출력을 원하는 단을 입력: 10\n",
            "입력 오류!\n"
          ]
        }
      ]
    },
    {
      "cell_type": "code",
      "source": [
        "# 모범 답안 sol1\n",
        "dan = int(input('단 입력 >> '))\n",
        "\n",
        "if dan >= 2 and dan <= 9:\n",
        "  for i in range(1,10):\n",
        "    print(f'{dan} * {i} = {dan*i}')\n",
        "else:\n",
        "  print('입력 오류!')"
      ],
      "metadata": {
        "colab": {
          "base_uri": "https://localhost:8080/"
        },
        "id": "hTtdLO3vQFJP",
        "outputId": "b9c0479a-1d6d-4002-cf16-4a90393f3c70"
      },
      "execution_count": null,
      "outputs": [
        {
          "output_type": "stream",
          "name": "stdout",
          "text": [
            "단 입력 >> 5\n",
            "5 * 1 = 5\n",
            "5 * 2 = 10\n",
            "5 * 3 = 15\n",
            "5 * 4 = 20\n",
            "5 * 5 = 25\n",
            "5 * 6 = 30\n",
            "5 * 7 = 35\n",
            "5 * 8 = 40\n",
            "5 * 9 = 45\n"
          ]
        }
      ]
    },
    {
      "cell_type": "code",
      "source": [
        "dan = int(input('단 입력 >> '))\n",
        "\n",
        "# 함수 정의\n",
        "def gugudan(dan):\n",
        "  if dan >= 2 and dan <= 9:\n",
        "    for i in range(1,10):\n",
        "      print(f'{dan} * {i} = {dan*i}')\n",
        "  else:\n",
        "    print('입력 오류!')\n",
        "\n",
        "# 함수 호출\n",
        "gugudan(dan)"
      ],
      "metadata": {
        "id": "NiyvbSgrQ7wU"
      },
      "execution_count": null,
      "outputs": []
    },
    {
      "cell_type": "code",
      "source": [
        "# 함수 정의를 맨 위로!\n",
        "\n",
        "def gugudan(dan):\n",
        "  if dan >= 2 and dan <= 9:\n",
        "    for i in range(1,10):\n",
        "      print(f'{dan} * {i} = {dan*i}')\n",
        "  else:\n",
        "    print('입력 오류!')\n",
        "\n",
        "dan = int(input('단 입력 >> '))\n",
        "# 함수 호출\n",
        "gugudan(dan)"
      ],
      "metadata": {
        "colab": {
          "base_uri": "https://localhost:8080/"
        },
        "id": "UNRUrV0xRofi",
        "outputId": "ff32ce55-6265-48c4-88b0-22cbc54373bd"
      },
      "execution_count": null,
      "outputs": [
        {
          "output_type": "stream",
          "name": "stdout",
          "text": [
            "단 입력 >> 3\n",
            "3 * 1 = 3\n",
            "3 * 2 = 6\n",
            "3 * 3 = 9\n",
            "3 * 4 = 12\n",
            "3 * 5 = 15\n",
            "3 * 6 = 18\n",
            "3 * 7 = 21\n",
            "3 * 8 = 24\n",
            "3 * 9 = 27\n"
          ]
        }
      ]
    },
    {
      "cell_type": "code",
      "source": [
        "# sol2\n",
        "\n",
        "def gugudan(dan):\n",
        "  for i in range(1,10):\n",
        "    print(f'{dan} * {i} = {dan*i}')\n",
        "\n",
        "dan = int(input('단 입력 >> '))\n",
        "# 함수 호출\n",
        "if dan >= 2 and dan <= 9:\n",
        "  gugudan(dan)\n",
        "else:\n",
        "  print(\"입력 오류!\")"
      ],
      "metadata": {
        "colab": {
          "base_uri": "https://localhost:8080/"
        },
        "id": "LFCePqTjR6OC",
        "outputId": "55e19217-02c1-47a6-bdc9-c24dc3930a57"
      },
      "execution_count": null,
      "outputs": [
        {
          "output_type": "stream",
          "name": "stdout",
          "text": [
            "단 입력 >> 3\n",
            "3 * 1 = 3\n",
            "3 * 2 = 6\n",
            "3 * 3 = 9\n",
            "3 * 4 = 12\n",
            "3 * 5 = 15\n",
            "3 * 6 = 18\n",
            "3 * 7 = 21\n",
            "3 * 8 = 24\n",
            "3 * 9 = 27\n"
          ]
        }
      ]
    },
    {
      "cell_type": "code",
      "source": [
        "# [실습2] 사용자로부터 3개의 숫자를 입력받아 가장 큰 수를 구하는 프로그램을 작성해 보세요.\n",
        "# 3개의 숫자를 매개변수로 받아 가장 큰 수를 반환하는 부분을 findMax(a,b,c) 함수로 작성\n",
        "# return 문 이용\n",
        "\n",
        "def findMax(a,b,c):\n",
        "  l=[]\n",
        "  l.append(a)\n",
        "  l.append(b)\n",
        "  l.append(c)\n",
        "  return max(l)\n",
        "\n",
        "x=int(input(\"정수를 입력하세요. \"))\n",
        "y=int(input(\"정수를 입력하세요. \"))\n",
        "z=int(input(\"정수를 입력하세요. \"))\n",
        "findMax(x,y,z)"
      ],
      "metadata": {
        "colab": {
          "base_uri": "https://localhost:8080/"
        },
        "id": "I6w2MG6uSPLE",
        "outputId": "19711c1c-5636-498d-b66c-32511ae2ca72"
      },
      "execution_count": null,
      "outputs": [
        {
          "name": "stdout",
          "output_type": "stream",
          "text": [
            "정수를 입력하세요. 200\n",
            "정수를 입력하세요. 100\n",
            "정수를 입력하세요. 170\n"
          ]
        },
        {
          "output_type": "execute_result",
          "data": {
            "text/plain": [
              "200"
            ]
          },
          "metadata": {},
          "execution_count": 19
        }
      ]
    },
    {
      "cell_type": "code",
      "source": [
        "# 모범 답안\n",
        "\n",
        "a = int(input('첫 번째 숫자 입력 >> '))\n",
        "b = int(input('두 번째 숫자 입력 >> '))\n",
        "c = int(input('세 번째 숫자 입력 >> '))\n",
        "\n",
        "if a > b:\n",
        "  big=a\n",
        "else:\n",
        "  big=b\n",
        "\n",
        "if big<c:\n",
        "  big=c\n",
        "\n",
        "print(f'가장 큰 수는 {big}')"
      ],
      "metadata": {
        "id": "s7RzsuHWTIZq"
      },
      "execution_count": null,
      "outputs": []
    },
    {
      "cell_type": "code",
      "source": [
        "def findMax(a,b,c):\n",
        "  if a > b:\n",
        "    big=a\n",
        "  else:\n",
        "    big=b\n",
        "\n",
        "  if big<c:\n",
        "    big=c\n",
        "\n",
        "  return big\n",
        "\n",
        "# 다음에서 사용하는 변수 이름은 정의부와 다르게 설정할 것을 권장\n",
        "in_a = int(input('첫 번째 숫자 입력 >> '))\n",
        "in_b = int(input('두 번째 숫자 입력 >> '))\n",
        "in_c = int(input('세 번째 숫자 입력 >> '))\n",
        "rbig=findMax(in_a,in_b,in_c)\n",
        "print(f'가장 큰 수는 {rbig}')"
      ],
      "metadata": {
        "colab": {
          "base_uri": "https://localhost:8080/"
        },
        "id": "2wUjphpyTxSt",
        "outputId": "ecb5b474-c6f5-4f9c-aacc-3de33ee21bb2"
      },
      "execution_count": null,
      "outputs": [
        {
          "output_type": "stream",
          "name": "stdout",
          "text": [
            "첫 번째 숫자 입력 >> 200\n",
            "두 번째 숫자 입력 >> 100\n",
            "세 번째 숫자 입력 >> 170\n",
            "가장 큰 수는 200\n"
          ]
        }
      ]
    },
    {
      "cell_type": "code",
      "source": [
        "# [실습3] 사용자로부터 반지름을 입력받아 원의 둘레와 원의 넓이를 출력하는 프로그램을 작성해 보세요.\n",
        "# return 문 이용\n",
        "# 원의 둘레와 원의 넓이를 출력하는 함수를 각각 만들 것. -> 클래스?\n",
        "\n",
        "def CircleCircumference(radius):\n",
        "  return 2*3.14*radius\n",
        "\n",
        "def CircleArea(radius):\n",
        "  return 3.14*(radius**2)\n",
        "\n",
        "r=int(input(\"원의 반지름(㎝)을 입력하세요. \"))\n",
        "circum=CircleCircumference(r)\n",
        "area=CircleArea(r)\n",
        "print(f'원의 둘레(㎝): {circum:,}')\n",
        "print(f'원의 넓이(㎠): {area:,}')"
      ],
      "metadata": {
        "colab": {
          "base_uri": "https://localhost:8080/"
        },
        "id": "6_7ht1XRUgNK",
        "outputId": "319a0ed4-1b69-4a8f-9734-5af0340f08cb"
      },
      "execution_count": null,
      "outputs": [
        {
          "output_type": "stream",
          "name": "stdout",
          "text": [
            "원의 반지름(㎝)을 입력하세요. 12\n",
            "원의 둘레(㎝): 75.36\n",
            "원의 넓이(㎠): 452.16\n"
          ]
        }
      ]
    },
    {
      "cell_type": "code",
      "source": [
        "# 모범 답안\n",
        "def circleRound(r):\n",
        "  pi=3.14\n",
        "  cr=2*r*pi\n",
        "  return cr # 이 안에 계산식만 적어도 됨\n",
        "\n",
        "def circleArea(r):\n",
        "  pi=3.14\n",
        "  ca=r*r*pi\n",
        "  return ca\n",
        "\n",
        "n=int(input(\"원의 반지름 입력: \"))\n",
        "\n",
        "result1=circleRound(n)\n",
        "result2=circleArea(n)\n",
        "\n",
        "print(\"원의 둘레: %.2f\" % result1)\n",
        "print(\"원의 넓이: %.2f\" % result2)"
      ],
      "metadata": {
        "id": "r1HtpN28WrRm"
      },
      "execution_count": null,
      "outputs": []
    },
    {
      "cell_type": "markdown",
      "source": [
        "## 모듈(module)\n",
        "* 함수나 변수 또는 클래스들을 모아 놓은 파일.\n",
        "* 특정 기능(함수)을 포함하고 있는 파일(xxx.py)로 다른 프로그램에 이식해서 사용하는 것.\n",
        "* 모듈의 종류\n",
        "  * 표준 모듈: 파이썬에서 제공하는 모듈. [모듈 목록](https://docs.python.org/ko/3.13/py-modindex.html)\n",
        "    - os: 운영 체제와 상호 작용하기 위한 기능을 제공하는 모듈\n",
        "    - sys: 파이썬 인터프리터와 관련된 기능을 제공하는 모듈\n",
        "    - math: 수학적인 연산을 수행하기 위한 기능을 제공하는 모듈\n",
        "    - random: 난수를 생성하기 위한 기능을 제공하는 모듈\n",
        "    - datetime: 날짜와 시간을 다루기 위한 기능을 제공하는 모듈\n",
        "  * 사용자 정의 모듈: 사용자가 직접 만드는 모듈\n",
        "* 모듈을 import하는 방법: 프로그램의 상단에서 impoort 키워드를 사용해서 그 모듈을 명시해야 함.\n",
        "  * 1. import 모듈\n",
        "\n",
        "  ```\n",
        "  >>> import math\n",
        "  >>> math.sqrt(4.0)\n",
        "  2.0\n",
        "  ```\n",
        "  * 2. import 모듈 as 별칭\n",
        "\n",
        "  ```\n",
        "  >>> import math as m\n",
        "  >>> math.sqrt(4.0)\n",
        "  2.0\n",
        "  ```\n",
        "\n",
        "  * 3. from 모듈 import 함수1, 함수2,...\n",
        "\n",
        "  ```\n",
        "  >>> from math import pi, sqrt\n",
        "  >>> pi\n",
        "  3.141592653589793\n",
        "  >>> sqrt(4.0)\n",
        "  2.0\n",
        "  ```\n",
        "  * 4. from 모듈 import *: 시간 오래 걸림.\n",
        "\n",
        "  ```\n",
        "  >>> from math import *\n",
        "  >>> pi\n",
        "  3.141592653589793\n",
        "  >>> sqrt(4.0)\n",
        "  2.0\n",
        "  ```\n",
        "\n",
        "\n"
      ],
      "metadata": {
        "id": "8b-PHUn4Zalf"
      }
    },
    {
      "cell_type": "markdown",
      "source": [
        "* random 모듈\n",
        "  - .choice([리스트]): 리스트 값 중 하나를 임의 선택\n",
        "  - .sample([리스트],개수): 리스트 값 중 지정한 개수만큼 중복없이 임의 선택\n",
        "  - .randint()\n",
        "  - .randrange()"
      ],
      "metadata": {
        "id": "kCkuebvjcs8q"
      }
    },
    {
      "cell_type": "code",
      "source": [
        "# [실습] \"영어 단어 5문제 출제\"하는 프로그램을 만들어 보세요.\n",
        "# 딕셔너리에 영어 단어, 뜻을 10개 입력. 단, 딕셔너리에 데이터를 추가로 입력할 수 있도록 함.\n",
        "# 0을 입력하면 문제 수와 상관없이 종료됨.\n",
        "# 문제는 중복없이 무작위로 출제되도록 함.\n",
        "# eng_question 사용자 정의 함수로 작성. 단 채점 결과(정답 수, 틀린 수)는 return 문 이용.\n",
        "\n",
        "# 단어는 뭘로?\n",
        "english={''}"
      ],
      "metadata": {
        "id": "kSzX5UliZHI1"
      },
      "execution_count": null,
      "outputs": []
    },
    {
      "cell_type": "code",
      "source": [
        "# 모범 답안\n",
        "word_data={'cat':'고양이','apple':'사과','friend':'친구','flower':'꽃'}\n",
        "\n",
        "word=list(word_data.keys())\n",
        "print(word)"
      ],
      "metadata": {
        "colab": {
          "base_uri": "https://localhost:8080/"
        },
        "id": "W94tDpqedj6Q",
        "outputId": "689a6187-9f31-4b38-cbdc-392f5855aa78"
      },
      "execution_count": null,
      "outputs": [
        {
          "output_type": "stream",
          "name": "stdout",
          "text": [
            "['cat', 'apple', 'friend', 'flower']\n"
          ]
        }
      ]
    },
    {
      "cell_type": "code",
      "source": [
        "# .choice() 사용\n",
        "import random\n",
        "\n",
        "word_data={'cat':'고양이','apple':'사과','friend':'친구','flower':'꽃'}\n",
        "\n",
        "word=list(word_data.keys())\n",
        "print(random.choice(word))"
      ],
      "metadata": {
        "colab": {
          "base_uri": "https://localhost:8080/"
        },
        "id": "vPwSvTtveSj8",
        "outputId": "082cda9c-f3c5-4306-9fc1-7e71430906de"
      },
      "execution_count": null,
      "outputs": [
        {
          "output_type": "stream",
          "name": "stdout",
          "text": [
            "friend\n"
          ]
        }
      ]
    },
    {
      "cell_type": "code",
      "source": [
        "import random\n",
        "\n",
        "word_data={'cat':'고양이','apple':'사과','friend':'친구','flower':'꽃'}\n",
        "\n",
        "word=random.choice(list(word_data.keys()))\n",
        "print(f'다음 단어의 뜻은 무엇일까요? {word}')\n",
        "# guess=input('뜻을 입력하세요 >> ')\n",
        "print(word_data[word])"
      ],
      "metadata": {
        "colab": {
          "base_uri": "https://localhost:8080/"
        },
        "id": "Nr00SNV3ewAv",
        "outputId": "006d7a1b-26ca-42fa-8c3c-e19c522373cd"
      },
      "execution_count": null,
      "outputs": [
        {
          "output_type": "stream",
          "name": "stdout",
          "text": [
            "다음 단어의 뜻은 무엇일까요? flower\n",
            "꽃\n"
          ]
        }
      ]
    },
    {
      "cell_type": "code",
      "source": [
        "import random\n",
        "\n",
        "word_data={'cat':'고양이','apple':'사과','friend':'친구','flower':'꽃'}\n",
        "\n",
        "word=random.choice(list(word_data.keys()))\n",
        "print(f'다음 단어의 뜻은 무엇일까요? {word}')\n",
        "guess=input('뜻을 입력하세요 >> ')\n",
        "if guess == word_data[word]:\n",
        "  print('정답입니다!')\n",
        "else:\n",
        "  print(f'오답입니다. 정답은 {word_data[word]}입니다.')"
      ],
      "metadata": {
        "colab": {
          "base_uri": "https://localhost:8080/"
        },
        "id": "H1_CoJy_fQHB",
        "outputId": "d36882e6-2627-40de-f03a-886f70425ea1"
      },
      "execution_count": null,
      "outputs": [
        {
          "output_type": "stream",
          "name": "stdout",
          "text": [
            "다음 단어의 뜻은 무엇일까요? flower\n",
            "뜻을 입력하세요 >> 꽃\n",
            "정답입니다.\n"
          ]
        }
      ]
    },
    {
      "cell_type": "code",
      "source": [
        "import random\n",
        "\n",
        "word_data={'cat':'고양이','apple':'사과','friend':'친구','flower':'꽃'}\n",
        "quiz=0\n",
        "correct=0\n",
        "\n",
        "while True:\n",
        "  word=random.choice(list(word_data.keys()))\n",
        "  print(f'다음 단어의 뜻은 무엇일까요? {word}')\n",
        "  quiz=quiz+1\n",
        "  guess=input('뜻을 입력하세요 >> ')\n",
        "  if guess == word_data[word]:\n",
        "    print('정답입니다!')\n",
        "    correct=correct+1\n",
        "  else:\n",
        "    print(f'오답입니다. 정답은 {word_data[word]}입니다.')\n",
        "\n",
        "  quit=input(\"계속하시겠습니까?(종료: N) \")\n",
        "  if quit=='N':\n",
        "    break\n",
        "\n",
        "print(f'문제 수: {quiz}개, 정답 수: {correct}개, 오답 수: {quiz-correct}개')"
      ],
      "metadata": {
        "colab": {
          "base_uri": "https://localhost:8080/"
        },
        "id": "CscgVYp_gJXu",
        "outputId": "e5bddcd1-d7fc-42af-ab44-28476a2a2d51"
      },
      "execution_count": null,
      "outputs": [
        {
          "output_type": "stream",
          "name": "stdout",
          "text": [
            "다음 단어의 뜻은 무엇일까요? cat\n",
            "뜻을 입력하세요 >> 고양이\n",
            "정답입니다!\n",
            "계속하시겠습니까?(종료: N) \n",
            "다음 단어의 뜻은 무엇일까요? flower\n",
            "뜻을 입력하세요 >> 꽃\n",
            "정답입니다!\n",
            "계속하시겠습니까?(종료: N) \n",
            "다음 단어의 뜻은 무엇일까요? flower\n",
            "뜻을 입력하세요 >> 꽃\n",
            "정답입니다!\n",
            "계속하시겠습니까?(종료: N) \n",
            "다음 단어의 뜻은 무엇일까요? apple\n",
            "뜻을 입력하세요 >> apple\n",
            "오답입니다. 정답은 사과입니다.\n",
            "계속하시겠습니까?(종료: N) N\n",
            "문제 수: 4개, 정답 수: 3개, 오답 수: 1개\n"
          ]
        }
      ]
    },
    {
      "cell_type": "code",
      "source": [
        "def eng_question():\n",
        "  import random\n",
        "\n",
        "  word_data={'cat':'고양이','apple':'사과','friend':'친구','flower':'꽃'}\n",
        "  quiz=0\n",
        "  correct=0\n",
        "  wrong=0\n",
        "\n",
        "  while True:\n",
        "    word=random.choice(list(word_data.keys()))\n",
        "    print(f'다음 단어의 뜻은 무엇일까요? {word}')\n",
        "    quiz=quiz+1\n",
        "    guess=input('뜻을 입력하세요(종료: 0) ')\n",
        "    if guess == word_data[word]:\n",
        "      print('정답입니다!')\n",
        "      correct=correct+1\n",
        "    elif guess=='0':\n",
        "      quiz=quiz-1\n",
        "      break\n",
        "    else:\n",
        "      print(f'오답입니다. 정답은 {word_data[word]}입니다.')\n",
        "      wrong=wrong+1\n",
        "\n",
        "  print(f'문제 수: {quiz}개, 정답 수: {correct}개, 오답 수: {wrong}개')\n",
        "\n",
        "eng_question()"
      ],
      "metadata": {
        "colab": {
          "base_uri": "https://localhost:8080/"
        },
        "id": "Ke9LEN7VhkqH",
        "outputId": "58841ae0-48b0-49a8-ed98-bc002e79cb46"
      },
      "execution_count": null,
      "outputs": [
        {
          "output_type": "stream",
          "name": "stdout",
          "text": [
            "다음 단어의 뜻은 무엇일까요? cat\n",
            "뜻을 입력하세요(종료: 0) 0\n",
            "문제 수: 0개, 정답 수: 0개, 오답 수: 0개\n"
          ]
        }
      ]
    },
    {
      "cell_type": "code",
      "source": [
        "# 추가 미션: 메뉴를 하나 입력받아 1이면 단어 추가, 2이면 퀴즈 진행하도록\n",
        "word_data={'cat':'고양이','apple':'사과','friend':'친구','flower':'꽃'}\n",
        "\n",
        "def data_add():\n",
        "  print(f'현재 딕셔너리에는 다음 정보가 저장되어 있습니다.\\n{word_data}')\n",
        "  new_word=input('추가할 영어 단어를 입력하세요. ')\n",
        "  new_mean=input(\"그 단어의 뜻을 입력하세요. \")\n",
        "  word_data[new_word]=new_mean\n",
        "  print(f'''추가가 완료되었습니다.\\n새로운 딕셔너리 정보를 확인하세요.\\n{word_data}''')\n",
        "\n",
        "def data_del():\n",
        "  print(f'현재 딕셔너리에는 다음 정보가 저장되어 있습니다.\\n{word_data}')\n",
        "  del_word=input('제거할 영어 단어를 입력하세요. ')\n",
        "  del word_data[del_word]\n",
        "  print(f'''제거가 완료되었습니다.\\n새로운 딕셔너리 정보를 확인하세요.\\n{word_data}''')\n",
        "\n",
        "def eng_question():\n",
        "  import random\n",
        "\n",
        "  quiz=0\n",
        "  correct=0\n",
        "  wrong=0\n",
        "\n",
        "  while True:\n",
        "    word=random.choice(list(word_data.keys()))\n",
        "    print(f'다음 단어의 뜻은 무엇일까요? {word}')\n",
        "    quiz=quiz+1\n",
        "    guess=input('뜻을 입력하세요(종료: 0) ')\n",
        "    if guess == word_data[word]:\n",
        "      print('정답입니다!')\n",
        "      correct=correct+1\n",
        "    elif guess=='0':\n",
        "      quiz=quiz-1\n",
        "      break\n",
        "    else:\n",
        "      print(f'오답입니다. 정답은 {word_data[word]}입니다.')\n",
        "      wrong=wrong+1\n",
        "\n",
        "  print(f'문제 수: {quiz}개, 정답 수: {correct}개, 오답 수: {wrong}개')\n",
        "\n",
        "def Menu():\n",
        "  while True:\n",
        "    menu=int(input(\"메뉴를 선택하세요(0: 종료, 1: 단어 추가, 2: 단어 제거, 3: 단어 퀴즈) \"))\n",
        "    if menu==0:\n",
        "      print(\"이용해 주셔서 감사합니다.\")\n",
        "      break\n",
        "    elif menu==1:\n",
        "      # pass: 여기에는 뭐가 들어가야 할까?\n",
        "      data_add()\n",
        "    elif menu==2:\n",
        "      data_del()\n",
        "    elif menu==3:\n",
        "      eng_question()\n",
        "    else:\n",
        "      print(\"없는 메뉴입니다.\")\n",
        "\n",
        "Menu()"
      ],
      "metadata": {
        "colab": {
          "base_uri": "https://localhost:8080/"
        },
        "id": "pWz82Bp7iYI0",
        "outputId": "d59e5485-1b2c-4992-9544-365e00e1c306"
      },
      "execution_count": null,
      "outputs": [
        {
          "output_type": "stream",
          "name": "stdout",
          "text": [
            "메뉴를 선택하세요(0: 종료, 1: 단어 추가, 2: 단어 제거, 3: 단어 퀴즈) 0\n",
            "이용해 주셔서 감사합니다.\n"
          ]
        }
      ]
    },
    {
      "cell_type": "code",
      "source": [
        "# [실습] 구구단 게임을 컴퓨터와 하는 프로그램을 다음의 조건대로 작성해 보세요.\n",
        "# 컴퓨터가 임의의 구구단을 하나 생성한 후 이를 플레이어에게 맞히라고 한다.\n",
        "# random 모듈 이용\n",
        "\n",
        "def multiplication_quiz():\n",
        "  import random\n",
        "  print(\"구구단 퀴즈 프로그램에 오신 걸 환영합니다!\")\n",
        "  quiz_num=int(input(\"문제 수를 선택하세요. \"))\n",
        "  correct=0\n",
        "\n",
        "  for i in range(quiz_num):\n",
        "    a=random.randint(2,9)\n",
        "    b=random.randint(1,9)\n",
        "    quiz=int(input(f\"{a} X {b}?\\n>> \"))\n",
        "    if quiz==a*b:\n",
        "      print(\"정답입니다!\")\n",
        "      correct=correct+1\n",
        "    else:\n",
        "      print(f\"오답입니다. 정답은 {a*b}입니다.\")\n",
        "  print(f'{quiz_num}번 중 {correct}번 맞았어요.')\n",
        "\n",
        "multiplication_quiz()"
      ],
      "metadata": {
        "colab": {
          "base_uri": "https://localhost:8080/"
        },
        "id": "NgYcn4lTj1U0",
        "outputId": "27fe7ac0-e091-4805-a5fe-52f47e2d657b"
      },
      "execution_count": null,
      "outputs": [
        {
          "output_type": "stream",
          "name": "stdout",
          "text": [
            "구구단 퀴즈 프로그램에 오신 걸 환영합니다!\n",
            "문제 수를 선택하세요. 2\n",
            "5 X 1?\n",
            ">> 5\n",
            "정답입니다!\n",
            "5 X 1?\n",
            ">> 4\n",
            "오답입니다. 정답은 5입니다.\n",
            "2번 중 1번 맞았어요.\n"
          ]
        }
      ]
    },
    {
      "cell_type": "code",
      "source": [
        "# 모범 답안: 9일 차에는 이걸 모듈로!\n",
        "def multiplication_quiz(quiz_num):\n",
        "  import random\n",
        "  correct=0\n",
        "\n",
        "  for i in range(quiz_num):\n",
        "    a=random.randint(2,9)\n",
        "    b=random.randint(1,9)\n",
        "    quiz=int(input(f\"{a} X {b}?\\n>> \"))\n",
        "    if quiz==a*b:\n",
        "      print(\"정답입니다!\")\n",
        "      correct=correct+1\n",
        "    else:\n",
        "      print(f\"오답입니다. 정답은 {a*b}입니다.\")\n",
        "\n",
        "  return correct\n",
        "\n",
        "count=int(input(\"구구단 퀴즈 프로그램에 오신 걸 환영합니다!\\n문제 수를 선택하세요. \"))\n",
        "result=multiplication_quiz(count)\n",
        "print(f'{count}번 중 {result}번 맞았어요.')"
      ],
      "metadata": {
        "colab": {
          "base_uri": "https://localhost:8080/"
        },
        "id": "eKnKNcl1nbJL",
        "outputId": "3aced24f-5d9a-41cf-f05a-7fb7dd29fba0"
      },
      "execution_count": null,
      "outputs": [
        {
          "output_type": "stream",
          "name": "stdout",
          "text": [
            "구구단 퀴즈 프로그램에 오신 걸 환영합니다!\n",
            "문제 수를 선택하세요. 2\n",
            "4 X 5?\n",
            ">> 20\n",
            "정답입니다!\n",
            "6 X 1?\n",
            ">> 2\n",
            "오답입니다. 정답은 6입니다.\n",
            "2번 중 1번 맞았어요.\n"
          ]
        }
      ]
    },
    {
      "cell_type": "code",
      "source": [
        "# time 모듈도 사용해 보자!\n",
        "\n",
        "import time\n",
        "\n",
        "print(time.time())"
      ],
      "metadata": {
        "colab": {
          "base_uri": "https://localhost:8080/"
        },
        "id": "Wcb9Tkgqp1Ox",
        "outputId": "0027db7c-6bff-44ef-91a0-9128fbc42ecb"
      },
      "execution_count": null,
      "outputs": [
        {
          "output_type": "stream",
          "name": "stdout",
          "text": [
            "1736738449.8626258\n"
          ]
        }
      ]
    },
    {
      "cell_type": "markdown",
      "source": [
        "* **미완성**"
      ],
      "metadata": {
        "id": "-zzrzIoisnI6"
      }
    },
    {
      "cell_type": "code",
      "source": [
        "def multiplication_quiz(quiz_num, quiz_time):\n",
        "  import random\n",
        "  import time\n",
        "  correct=0\n",
        "\n",
        "  for i in range(quiz_num):\n",
        "    a=random.randint(2,9)\n",
        "    b=random.randint(1,9)\n",
        "    start=time.time()\n",
        "    quiz=int(input(f\"{a} X {b}?\\n>> \"))\n",
        "    end=time.time()\n",
        "    print(f'{end-start:.1f}초 만에 답을 했어요.')\n",
        "    if quiz==a*b and quiz_time>=end-start:\n",
        "      print(\"정답입니다!\")\n",
        "      correct=correct+1\n",
        "    elif quiz==a*b and quiz_time<end-start:\n",
        "      print(\"정답이나 제한 시간을 초과하였으므로 오답 처리합니다.\")\n",
        "    else:\n",
        "      print(f\"오답입니다. 정답은 {a*b}입니다.\")\n",
        "\n",
        "  return correct\n",
        "\n",
        "count=int(input(\"구구단 퀴즈 프로그램에 오신 걸 환영합니다!\\n문제 수를 선택하세요. \"))\n",
        "time=int(input(\"제한 시간(정수, 초)을 입력하세요. 이 안에 답을 하지 못하면 정답이어도 오답 처리됩니다. \"))\n",
        "result=multiplication_quiz(count, time)\n",
        "print(f'{count}번 중 {result}번 맞았어요.')"
      ],
      "metadata": {
        "colab": {
          "base_uri": "https://localhost:8080/"
        },
        "id": "ceHf6eE9q4zg",
        "outputId": "a1aedde3-56a6-446e-f9e9-7ab136143280"
      },
      "execution_count": null,
      "outputs": [
        {
          "output_type": "stream",
          "name": "stdout",
          "text": [
            "구구단 퀴즈 프로그램에 오신 걸 환영합니다!\n",
            "문제 수를 선택하세요. 3\n",
            "제한 시간(정수, 초)을 입력하세요. 이 안에 답을 하지 못하면 정답이어도 오답 처리됩니다. 3\n",
            "6 X 8?\n",
            ">> 48\n",
            "2.0초 만에 답을 했어요.\n",
            "정답입니다!\n",
            "8 X 7?\n",
            ">> 56\n",
            "2.2초 만에 답을 했어요.\n",
            "정답입니다!\n",
            "8 X 2?\n",
            ">> 16\n",
            "2.2초 만에 답을 했어요.\n",
            "정답입니다!\n",
            "3번 중 3번 맞았어요.\n"
          ]
        }
      ]
    },
    {
      "cell_type": "code",
      "source": [],
      "metadata": {
        "id": "yUUHnmFCsCvO"
      },
      "execution_count": null,
      "outputs": []
    }
  ]
}